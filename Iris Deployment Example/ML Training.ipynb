{
 "cells": [
  {
   "cell_type": "code",
   "execution_count": 1,
   "id": "849e34a7",
   "metadata": {},
   "outputs": [
    {
     "name": "stdout",
     "output_type": "stream",
     "text": [
      "   sepal_length  sepal_width  petal_length  petal_width species\n",
      "0           5.1          3.5           1.4          0.2  setosa\n",
      "1           4.9          3.0           1.4          0.2  setosa\n",
      "2           4.7          3.2           1.3          0.2  setosa\n",
      "3           4.6          3.1           1.5          0.2  setosa\n",
      "4           5.0          3.6           1.4          0.2  setosa\n"
     ]
    }
   ],
   "source": [
    "#Load and pre-proccess data\n",
    "import pandas as pd\n",
    "inputFolder = 'data/'\n",
    "df = pd.read_csv(inputFolder + 'iris.csv')\n",
    "print(df.head())"
   ]
  },
  {
   "cell_type": "code",
   "execution_count": 2,
   "id": "581b1ec5",
   "metadata": {},
   "outputs": [
    {
     "name": "stdout",
     "output_type": "stream",
     "text": [
      "   sepal_length  sepal_width  petal_length  petal_width\n",
      "0           5.1          3.5           1.4          0.2\n",
      "1           4.9          3.0           1.4          0.2\n",
      "2           4.7          3.2           1.3          0.2\n",
      "3           4.6          3.1           1.5          0.2\n",
      "4           5.0          3.6           1.4          0.2\n",
      "0    setosa\n",
      "1    setosa\n",
      "2    setosa\n",
      "3    setosa\n",
      "4    setosa\n",
      "Name: species, dtype: object\n"
     ]
    }
   ],
   "source": [
    "#Split data into features and target\n",
    "X = df.loc[:, df.columns != 'species']\n",
    "print(X.head())\n",
    "y = df['species']\n",
    "print(y.head())"
   ]
  },
  {
   "cell_type": "code",
   "execution_count": 3,
   "id": "41f87489",
   "metadata": {},
   "outputs": [
    {
     "name": "stdout",
     "output_type": "stream",
     "text": [
      "(112, 4)\n",
      "     sepal_length  sepal_width  petal_length  petal_width\n",
      "29            4.7          3.2           1.6          0.2\n",
      "115           6.4          3.2           5.3          2.3\n",
      "67            5.8          2.7           4.1          1.0\n",
      "107           7.3          2.9           6.3          1.8\n",
      "82            5.8          2.7           3.9          1.2\n",
      "(38, 4)\n",
      "     sepal_length  sepal_width  petal_length  petal_width\n",
      "77            6.7          3.0           5.0          1.7\n",
      "121           5.6          2.8           4.9          2.0\n",
      "32            5.2          4.1           1.5          0.1\n",
      "65            6.7          3.1           4.4          1.4\n",
      "1             4.9          3.0           1.4          0.2\n",
      "(112,)\n",
      "29         setosa\n",
      "115     virginica\n",
      "67     versicolor\n",
      "107     virginica\n",
      "82     versicolor\n",
      "Name: species, dtype: object\n",
      "(38,)\n",
      "77     versicolor\n",
      "121     virginica\n",
      "32         setosa\n",
      "65     versicolor\n",
      "1          setosa\n",
      "Name: species, dtype: object\n"
     ]
    }
   ],
   "source": [
    "#Split data into train and test\n",
    "from sklearn.model_selection import train_test_split\n",
    "X_train, X_test, y_train, y_test = train_test_split(X, y,test_size=0.25)\n",
    "print(X_train.shape)\n",
    "print(X_train.head())\n",
    "print(X_test.shape)\n",
    "print(X_test.head())\n",
    "print(y_train.shape)\n",
    "print(y_train.head())\n",
    "print(y_test.shape)\n",
    "print(y_test.head())"
   ]
  },
  {
   "cell_type": "code",
   "execution_count": 4,
   "id": "6764096e",
   "metadata": {},
   "outputs": [],
   "source": [
    "#Model creation\n",
    "from sklearn.ensemble import RandomForestClassifier\n",
    "#create object of RandomForestClassifier \n",
    "model = RandomForestClassifier()"
   ]
  },
  {
   "cell_type": "code",
   "execution_count": 5,
   "id": "677eb6f9",
   "metadata": {},
   "outputs": [
    {
     "data": {
      "text/plain": [
       "1.0"
      ]
     },
     "execution_count": 5,
     "metadata": {},
     "output_type": "execute_result"
    }
   ],
   "source": [
    "#Training\n",
    "\n",
    "#train model\n",
    "model.fit(X_train, y_train)\n",
    "#print score\n",
    "model.score(X_train,y_train)"
   ]
  },
  {
   "cell_type": "code",
   "execution_count": 6,
   "id": "8050fb69",
   "metadata": {},
   "outputs": [
    {
     "data": {
      "text/plain": [
       "array(['virginica', 'virginica', 'setosa', 'versicolor', 'setosa',\n",
       "       'versicolor', 'virginica', 'versicolor', 'virginica', 'versicolor'],\n",
       "      dtype=object)"
      ]
     },
     "execution_count": 6,
     "metadata": {},
     "output_type": "execute_result"
    }
   ],
   "source": [
    "#Predict\n",
    "#predict X_test data\n",
    "predictions = model.predict(X_test)\n",
    "predictions[:10]\n"
   ]
  },
  {
   "cell_type": "code",
   "execution_count": 7,
   "id": "0f3937ef",
   "metadata": {},
   "outputs": [
    {
     "name": "stdout",
     "output_type": "stream",
     "text": [
      "0.9473684210526315\n",
      "[[10  0  0]\n",
      " [ 0 15  1]\n",
      " [ 0  1 11]]\n",
      "              precision    recall  f1-score   support\n",
      "\n",
      "      setosa       1.00      1.00      1.00        10\n",
      "  versicolor       0.94      0.94      0.94        16\n",
      "   virginica       0.92      0.92      0.92        12\n",
      "\n",
      "    accuracy                           0.95        38\n",
      "   macro avg       0.95      0.95      0.95        38\n",
      "weighted avg       0.95      0.95      0.95        38\n",
      "\n"
     ]
    }
   ],
   "source": [
    "#Scoring\n",
    "from sklearn.metrics import accuracy_score, confusion_matrix, classification_report\n",
    "print(accuracy_score(y_test, predictions))\n",
    "print(confusion_matrix(y_test, predictions))\n",
    "print(classification_report(y_test, predictions))"
   ]
  },
  {
   "cell_type": "code",
   "execution_count": 13,
   "id": "2f3afe35",
   "metadata": {},
   "outputs": [
    {
     "data": {
      "text/plain": [
       "['output/randomforest_model.pkl']"
      ]
     },
     "execution_count": 13,
     "metadata": {},
     "output_type": "execute_result"
    }
   ],
   "source": [
    "#Saving model\n",
    "#We are using joblib model to serialize Python object. joblib.dump() will allow to save Python object on disk.\n",
    "#save model in output directory\n",
    "import joblib as joblib\n",
    "joblib.dump(model,'output/randomforest_model.pkl')\n"
   ]
  },
  {
   "cell_type": "code",
   "execution_count": 14,
   "id": "ad17e398",
   "metadata": {},
   "outputs": [
    {
     "name": "stdout",
     "output_type": "stream",
     "text": [
      "[[5.1 3.2 1.5 0.4]]\n"
     ]
    }
   ],
   "source": [
    "#Predict with new data\n",
    "\n",
    "import numpy as np\n",
    "test_data = [5.1, 3.2, 1.5, 0.4]\n",
    "#convert test_data into numpy array\n",
    "test_data = np.array(test_data)\n",
    "#reshape\n",
    "test_data = test_data.reshape(1,-1)\n",
    "print(test_data)\n"
   ]
  },
  {
   "cell_type": "code",
   "execution_count": 15,
   "id": "e341a143",
   "metadata": {},
   "outputs": [],
   "source": [
    "#Load trained model\n",
    "#declare path where you saved your model\n",
    "outFileFolder = ''\n",
    "filePath = outFileFolder + 'output/randomforest_model.pkl'\n",
    "#open file\n",
    "file = open(filePath, \"rb\")\n",
    "#load the trained model\n",
    "trained_model = joblib.load(file)"
   ]
  },
  {
   "cell_type": "code",
   "execution_count": 16,
   "id": "d1d9525b",
   "metadata": {},
   "outputs": [
    {
     "name": "stdout",
     "output_type": "stream",
     "text": [
      "['setosa']\n"
     ]
    }
   ],
   "source": [
    "#Predict with trained model\n",
    "prediction = trained_model.predict(test_data)\n",
    "print(prediction)"
   ]
  },
  {
   "cell_type": "code",
   "execution_count": null,
   "id": "44814af8",
   "metadata": {},
   "outputs": [],
   "source": []
  }
 ],
 "metadata": {
  "kernelspec": {
   "display_name": "Python [conda env:PythonAdv] *",
   "language": "python",
   "name": "conda-env-PythonAdv-py"
  },
  "language_info": {
   "codemirror_mode": {
    "name": "ipython",
    "version": 3
   },
   "file_extension": ".py",
   "mimetype": "text/x-python",
   "name": "python",
   "nbconvert_exporter": "python",
   "pygments_lexer": "ipython3",
   "version": "3.6.13"
  }
 },
 "nbformat": 4,
 "nbformat_minor": 5
}
